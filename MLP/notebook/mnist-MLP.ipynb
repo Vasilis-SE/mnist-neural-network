{
 "cells": [
  {
   "cell_type": "markdown",
   "id": "0eac9276",
   "metadata": {},
   "source": [
    "## MNIST Multi Layer Perceptron"
   ]
  },
  {
   "cell_type": "code",
   "execution_count": 1,
   "id": "b518b51f",
   "metadata": {},
   "outputs": [],
   "source": [
    "import numpy as np\n",
    "# import matplotlib.pyplot as plt\n",
    "import torch\n",
    "import torch.nn as nn\n",
    "import torch.nn.functional as F\n",
    "\n",
    "from tqdm.notebook import tqdm\n",
    "from torchvision import datasets, transforms"
   ]
  },
  {
   "cell_type": "markdown",
   "id": "d8906c36",
   "metadata": {},
   "source": [
    "### Define MLP Model"
   ]
  },
  {
   "cell_type": "code",
   "execution_count": 2,
   "id": "1cecc17e",
   "metadata": {},
   "outputs": [
    {
     "name": "stdout",
     "output_type": "stream",
     "text": [
      "Neural_Network(\n",
      "  (fcl1): Linear(in_features=784, out_features=500, bias=True)\n",
      "  (fcl2): Linear(in_features=500, out_features=500, bias=True)\n",
      "  (fcl3): Linear(in_features=500, out_features=10, bias=True)\n",
      ")\n"
     ]
    }
   ],
   "source": [
    "# Requirements\n",
    "# > A 2 layer MLP\n",
    "# > Images of 728 dimensions (28 * 28) as input\n",
    "# > A fully connected 500 hidden unit later (ReLU)\n",
    "# > To a final 10 unit layer (softmax)\n",
    "class Neural_Network(torch.nn.Module):\n",
    "    def __init__(self):\n",
    "        super().__init__()\n",
    "        self.fcl1 = nn.Linear((28 * 28), 500)\n",
    "        self.fcl2 = nn.Linear(500, 500)\n",
    "        self.fcl3 = nn.Linear(500, 10)\n",
    "  \n",
    "    def forward(self, x):\n",
    "        x = x.view(-1, (28 * 28))\n",
    "        \n",
    "        z = F.relu(self.fcl1(x))\n",
    "        k = F.relu(self.fcl2(z))\n",
    "        y = self.fcl3(k)\n",
    "        return y\n",
    "    \n",
    "model = Neural_Network()\n",
    "print(model)"
   ]
  },
  {
   "cell_type": "markdown",
   "id": "e95b86a4",
   "metadata": {},
   "source": [
    "## Machine Learning Steps"
   ]
  },
  {
   "cell_type": "markdown",
   "id": "b6c4221e",
   "metadata": {},
   "source": [
    "### 1st step - Fetch mnist data"
   ]
  },
  {
   "cell_type": "code",
   "execution_count": 3,
   "id": "4d7d356b",
   "metadata": {},
   "outputs": [],
   "source": [
    "batch_size = 10\n",
    "\n",
    "mnist_train = datasets.MNIST(root=\"./datasets\", train=True, transform=transforms.ToTensor(), download=True)\n",
    "mnist_test = datasets.MNIST(root=\"./datasets\", train=False, transform=transforms.ToTensor(), download=True)\n",
    "train_data = torch.utils.data.DataLoader(mnist_train, batch_size=batch_size, shuffle=True)\n",
    "test_data = torch.utils.data.DataLoader(mnist_test, batch_size=batch_size, shuffle=False)"
   ]
  },
  {
   "cell_type": "markdown",
   "id": "41910c48",
   "metadata": {},
   "source": [
    "### 2nd step - Define batches, loss function and optimizer"
   ]
  },
  {
   "cell_type": "code",
   "execution_count": 4,
   "id": "b1c08858",
   "metadata": {},
   "outputs": [],
   "source": [
    "model = Neural_Network()\n",
    "# stochastic gradient descent with learning rate 0.01\n",
    "optimizer = torch.optim.SGD(model.parameters(), lr=0.01) \n",
    "\n",
    "# cross entropy loss function. It applies softmax function to the output layer\n",
    "cel = torch.nn.CrossEntropyLoss()"
   ]
  },
  {
   "cell_type": "markdown",
   "id": "8d3ffeba",
   "metadata": {},
   "source": [
    "### 3rd step - Train network"
   ]
  },
  {
   "cell_type": "code",
   "execution_count": 5,
   "id": "fa90f281",
   "metadata": {},
   "outputs": [
    {
     "data": {
      "application/vnd.jupyter.widget-view+json": {
       "model_id": "a78667e208c0453ca6128df9d1311261",
       "version_major": 2,
       "version_minor": 0
      },
      "text/plain": [
       "  0%|          | 0/6000 [00:00<?, ?it/s]"
      ]
     },
     "metadata": {},
     "output_type": "display_data"
    },
    {
     "name": "stdout",
     "output_type": "stream",
     "text": [
      "Epoch 1 > Avg Training Loss: 0.549260366282193\n"
     ]
    },
    {
     "data": {
      "application/vnd.jupyter.widget-view+json": {
       "model_id": "cb7dfaab3fe846ad82fec341c3b8e3e4",
       "version_major": 2,
       "version_minor": 0
      },
      "text/plain": [
       "  0%|          | 0/6000 [00:00<?, ?it/s]"
      ]
     },
     "metadata": {},
     "output_type": "display_data"
    },
    {
     "name": "stdout",
     "output_type": "stream",
     "text": [
      "Epoch 2 > Avg Training Loss: 0.22473101340940532\n"
     ]
    },
    {
     "data": {
      "application/vnd.jupyter.widget-view+json": {
       "model_id": "7b7ed580f528402aa9bd4bfa49e6038c",
       "version_major": 2,
       "version_minor": 0
      },
      "text/plain": [
       "  0%|          | 0/6000 [00:00<?, ?it/s]"
      ]
     },
     "metadata": {},
     "output_type": "display_data"
    },
    {
     "name": "stdout",
     "output_type": "stream",
     "text": [
      "Epoch 3 > Avg Training Loss: 0.1594328296262538\n"
     ]
    },
    {
     "data": {
      "application/vnd.jupyter.widget-view+json": {
       "model_id": "643f733021a84b16b0a38bc766baf31b",
       "version_major": 2,
       "version_minor": 0
      },
      "text/plain": [
       "  0%|          | 0/6000 [00:00<?, ?it/s]"
      ]
     },
     "metadata": {},
     "output_type": "display_data"
    },
    {
     "name": "stdout",
     "output_type": "stream",
     "text": [
      "Epoch 4 > Avg Training Loss: 0.12108290715823145\n"
     ]
    },
    {
     "data": {
      "application/vnd.jupyter.widget-view+json": {
       "model_id": "78f56a8ae1b1467c8ee6a986ca1e7b36",
       "version_major": 2,
       "version_minor": 0
      },
      "text/plain": [
       "  0%|          | 0/6000 [00:00<?, ?it/s]"
      ]
     },
     "metadata": {},
     "output_type": "display_data"
    },
    {
     "name": "stdout",
     "output_type": "stream",
     "text": [
      "Epoch 5 > Avg Training Loss: 0.09668241952063787\n"
     ]
    },
    {
     "data": {
      "application/vnd.jupyter.widget-view+json": {
       "model_id": "b6f0760e41bb438a8fc7080556a577ff",
       "version_major": 2,
       "version_minor": 0
      },
      "text/plain": [
       "  0%|          | 0/6000 [00:00<?, ?it/s]"
      ]
     },
     "metadata": {},
     "output_type": "display_data"
    },
    {
     "name": "stdout",
     "output_type": "stream",
     "text": [
      "Epoch 6 > Avg Training Loss: 0.07892464573925827\n"
     ]
    },
    {
     "data": {
      "application/vnd.jupyter.widget-view+json": {
       "model_id": "1193e09d638d4046ac12401bb6d9676f",
       "version_major": 2,
       "version_minor": 0
      },
      "text/plain": [
       "  0%|          | 0/6000 [00:00<?, ?it/s]"
      ]
     },
     "metadata": {},
     "output_type": "display_data"
    },
    {
     "name": "stdout",
     "output_type": "stream",
     "text": [
      "Epoch 7 > Avg Training Loss: 0.0654833949413005\n"
     ]
    },
    {
     "data": {
      "application/vnd.jupyter.widget-view+json": {
       "model_id": "4d6bc28d9486480ca88db9fa048b2926",
       "version_major": 2,
       "version_minor": 0
      },
      "text/plain": [
       "  0%|          | 0/6000 [00:00<?, ?it/s]"
      ]
     },
     "metadata": {},
     "output_type": "display_data"
    },
    {
     "name": "stdout",
     "output_type": "stream",
     "text": [
      "Epoch 8 > Avg Training Loss: 0.0550310999870829\n"
     ]
    },
    {
     "data": {
      "application/vnd.jupyter.widget-view+json": {
       "model_id": "db184437cdec4533a0071c1e0956131a",
       "version_major": 2,
       "version_minor": 0
      },
      "text/plain": [
       "  0%|          | 0/6000 [00:00<?, ?it/s]"
      ]
     },
     "metadata": {},
     "output_type": "display_data"
    },
    {
     "name": "stdout",
     "output_type": "stream",
     "text": [
      "Epoch 9 > Avg Training Loss: 0.046921840495085534\n"
     ]
    },
    {
     "data": {
      "application/vnd.jupyter.widget-view+json": {
       "model_id": "2d2eb6aba8b14e6d94fbe013d1fc2496",
       "version_major": 2,
       "version_minor": 0
      },
      "text/plain": [
       "  0%|          | 0/6000 [00:00<?, ?it/s]"
      ]
     },
     "metadata": {},
     "output_type": "display_data"
    },
    {
     "name": "stdout",
     "output_type": "stream",
     "text": [
      "Epoch 10 > Avg Training Loss: 0.04019729554319929\n"
     ]
    }
   ],
   "source": [
    "epochs = 10\n",
    "model.train()\n",
    "\n",
    "for epoch in range(epochs):\n",
    "    train_loss = 0.0\n",
    "    \n",
    "    # Training the model\n",
    "    for images,labels in tqdm( iter(train_data) ):\n",
    "        optimizer.zero_grad() # remove gradients\n",
    "\n",
    "        # Forward pass\n",
    "        output = model(images)\n",
    "        loss = cel(output, labels)\n",
    "        \n",
    "        # Backward pass\n",
    "        loss.backward()\n",
    "        optimizer.step()\n",
    "\n",
    "        # sum the tranning lost of Nth batch \n",
    "        train_loss += loss.item() * images.size(0)\n",
    "\n",
    "    # Calculate the average training loss per epoch\n",
    "    train_loss = train_loss / len(train_data.dataset)\n",
    "    print(\"Epoch {} > Avg Training Loss: {}\".format((epoch + 1), train_loss))\n"
   ]
  },
  {
   "cell_type": "markdown",
   "id": "87be1eb8",
   "metadata": {},
   "source": [
    "### 4th step - Test network"
   ]
  },
  {
   "cell_type": "code",
   "execution_count": 7,
   "id": "63de1359",
   "metadata": {},
   "outputs": [
    {
     "data": {
      "application/vnd.jupyter.widget-view+json": {
       "model_id": "838e36cc3e1f403ba1eb969c4e9e22b1",
       "version_major": 2,
       "version_minor": 0
      },
      "text/plain": [
       "  0%|          | 0/1000 [00:00<?, ?it/s]"
      ]
     },
     "metadata": {},
     "output_type": "display_data"
    },
    {
     "name": "stdout",
     "output_type": "stream",
     "text": [
      "Accuracy: 97.93000030517578 %\n"
     ]
    }
   ],
   "source": [
    "correct = 0\n",
    "total = len(mnist_test)\n",
    "test_loss = 0.0\n",
    "\n",
    "model.eval() \n",
    "\n",
    "with torch.no_grad():\n",
    "    for images,labels in tqdm( iter(test_data) ):\n",
    "        output = model(images)\n",
    "        loss = cel(output, labels) \n",
    "\n",
    "        test_loss += loss.item() * images.size(0)\n",
    "        predictions = torch.argmax(output, dim=1)\n",
    "        \n",
    "        # Sum all the correct predictions\n",
    "        correct += torch.sum(predictions == labels).float()\n",
    "  \n",
    "print(\"Accuracy: {} %\".format((correct/total)*100))"
   ]
  },
  {
   "cell_type": "code",
   "execution_count": null,
   "id": "187c2e30",
   "metadata": {},
   "outputs": [],
   "source": []
  },
  {
   "cell_type": "code",
   "execution_count": null,
   "id": "fc75d43b",
   "metadata": {},
   "outputs": [],
   "source": []
  }
 ],
 "metadata": {
  "kernelspec": {
   "display_name": "Python 3",
   "language": "python",
   "name": "python3"
  },
  "language_info": {
   "codemirror_mode": {
    "name": "ipython",
    "version": 3
   },
   "file_extension": ".py",
   "mimetype": "text/x-python",
   "name": "python",
   "nbconvert_exporter": "python",
   "pygments_lexer": "ipython3",
   "version": "3.7.4"
  }
 },
 "nbformat": 4,
 "nbformat_minor": 5
}
